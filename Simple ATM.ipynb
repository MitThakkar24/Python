{
 "cells": [
  {
   "cell_type": "code",
   "execution_count": null,
   "id": "08827ee1",
   "metadata": {},
   "outputs": [],
   "source": [
    "#constructor is special method.\n",
    "#which code will be autometically executedn when we make objaect of class."
   ]
  },
  {
   "cell_type": "code",
   "execution_count": null,
   "id": "d7bc3837",
   "metadata": {},
   "outputs": [],
   "source": [
    "#constuctor is magic/special method\n",
    "#identify magic method __name__ \n",
    "#this method can not be called by method\n",
    "#in this we will write code which will be executed when app is started and without asking user we want to execture some task\n",
    "#i.e data base connectivity netowrk etc"
   ]
  },
  {
   "cell_type": "code",
   "execution_count": 83,
   "id": "84d8cfa2",
   "metadata": {},
   "outputs": [],
   "source": [
    "#instance variable\n",
    "#whichever we create in constructor are called instance variable\n",
    "#cause its value is different for different object "
   ]
  },
  {
   "cell_type": "code",
   "execution_count": 74,
   "id": "7787ea23",
   "metadata": {},
   "outputs": [],
   "source": [
    "class Atm:\n",
    "    def __init__(self):\n",
    "        self.pin=\" \"\n",
    "        self.balance = 0\n",
    "        \n",
    "        self.menu()\n",
    "        \n",
    "    def menu(self):\n",
    "        user_input= input('''\n",
    "            how would you like to proceed?\n",
    "            1. Enter to create pin\n",
    "            2. deposit\n",
    "            3. withdraw\n",
    "            4. balance\n",
    "            5. exit\n",
    "        ''')\n",
    "        \n",
    "        if user_input == '1':\n",
    "            self.create_pin()\n",
    "        elif user_input=='2':\n",
    "            self.deposit()\n",
    "        elif user_input=='3':\n",
    "            self.withdraw()\n",
    "        elif user_input=='4':\n",
    "            self.check_balance()\n",
    "        else: \n",
    "            print(\"Bye\")\n",
    "    \n",
    "    def create_pin(self):\n",
    "        self.pin= input(\"Enter Your Pin=\")\n",
    "        print(\"Pin Created Successfully\")\n",
    "        \n",
    "    def deposit(self):\n",
    "        temp=input(\"Enter Your Pin=\")\n",
    "        if temp==self.pin:\n",
    "            amount= int(input(\"Enter The Amount: \"))\n",
    "            \n",
    "            self.balance = self.balance + amount\n",
    "            print(self.balance)\n",
    "        else:\n",
    "            print('Enter valid pin')\n",
    "            \n",
    "    def withdraw(self):\n",
    "        temp=input(\"Enter Your Pin=\")\n",
    "        if temp==self.pin:\n",
    "            amount= int(input(\"Enter The Amount: \"))\n",
    "            if amount < self.balance:\n",
    "                self.balance=self.balance-amount\n",
    "                print(\"Operation Successful\")\n",
    "            else:\n",
    "                print(\"Insufficient Funds\")\n",
    "        else:\n",
    "            print(\"Invalid Pin\")\n",
    "        print(\"Current balance is \", self.balance)   \n",
    "    \n",
    "    def check_balance(self):\n",
    "        temp = input(\"Enter your Pin=\")\n",
    "        if temp == self.pin:\n",
    "            print(self.balance)\n",
    "        else:\n",
    "            print(\"Enter Valid Pin\")\n",
    "                \n"
   ]
  },
  {
   "cell_type": "code",
   "execution_count": 76,
   "id": "74ef5897",
   "metadata": {},
   "outputs": [
    {
     "name": "stdout",
     "output_type": "stream",
     "text": [
      "\n",
      "            how would you like to proceed?\n",
      "            1. Enter to create pin\n",
      "            2. deposit\n",
      "            3. withdraw\n",
      "            4. balance\n",
      "            5. exit\n",
      "        1\n",
      "Enter Your Pin=1234\n",
      "Pin Created Successfully\n"
     ]
    }
   ],
   "source": [
    "xyz= Atm()"
   ]
  },
  {
   "cell_type": "code",
   "execution_count": 65,
   "id": "3dc7b0b2",
   "metadata": {},
   "outputs": [
    {
     "name": "stdout",
     "output_type": "stream",
     "text": [
      "Enter Your Pin=\n",
      "Enter valid pin\n"
     ]
    }
   ],
   "source": [
    "xyz.deposit()"
   ]
  },
  {
   "cell_type": "code",
   "execution_count": 66,
   "id": "ea3cfb01",
   "metadata": {},
   "outputs": [
    {
     "name": "stdout",
     "output_type": "stream",
     "text": [
      "Enter your Pin=\n",
      "Enter Valid Pin\n"
     ]
    }
   ],
   "source": [
    "xyz.check_balance()"
   ]
  },
  {
   "cell_type": "code",
   "execution_count": 78,
   "id": "fc5907ea",
   "metadata": {},
   "outputs": [
    {
     "name": "stdout",
     "output_type": "stream",
     "text": [
      "Enter Your Pin=1234\n",
      "Enter The Amount: 100\n",
      "100\n"
     ]
    }
   ],
   "source": [
    "xyz.deposit()"
   ]
  },
  {
   "cell_type": "code",
   "execution_count": 79,
   "id": "db74a583",
   "metadata": {},
   "outputs": [
    {
     "name": "stdout",
     "output_type": "stream",
     "text": [
      "Enter Your Pin=1234\n",
      "Enter The Amount: 20\n",
      "Operation Successful\n",
      "Current balance is  80\n"
     ]
    }
   ],
   "source": [
    "xyz.withdraw()"
   ]
  },
  {
   "cell_type": "code",
   "execution_count": 2,
   "id": "966eb388",
   "metadata": {},
   "outputs": [],
   "source": [
    "#stativ Variable"
   ]
  },
  {
   "cell_type": "code",
   "execution_count": 12,
   "id": "e6e68a4e",
   "metadata": {},
   "outputs": [],
   "source": [
    "class Atm:\n",
    "    \n",
    "    #static/class\n",
    "    __counter=1\n",
    "    \n",
    "    def __init__(self):\n",
    "        #instance variable\n",
    "        self.pin=\" \"\n",
    "        self.balance = 0\n",
    "        self.sno=Atm.__counter\n",
    "        Atm.__counter=Atm.__counter+1\n",
    "        self.menu()\n",
    "        \n",
    "    def menu(self):\n",
    "        user_input= input('''\n",
    "            how would you like to proceed?\n",
    "            1. Enter to create pin\n",
    "            2. deposit\n",
    "            3. withdraw\n",
    "            4. balance\n",
    "            5. exit\n",
    "        ''')\n",
    "        \n",
    "        if user_input == '1':\n",
    "            self.create_pin()\n",
    "        elif user_input=='2':\n",
    "            self.deposit()\n",
    "        elif user_input=='3':\n",
    "            self.withdraw()\n",
    "        elif user_input=='4':\n",
    "            self.check_balance()\n",
    "        else: \n",
    "            print(\"Bye\")\n",
    "    \n",
    "    def create_pin(self):\n",
    "        self.pin= input(\"Enter Your Pin=\")\n",
    "        print(\"Pin Created Successfully\")\n",
    "        \n",
    "    def deposit(self):\n",
    "        temp=input(\"Enter Your Pin=\")\n",
    "        if temp==self.pin:\n",
    "            amount= int(input(\"Enter The Amount: \"))\n",
    "            \n",
    "            self.balance = self.balance + amount\n",
    "            print(self.balance)\n",
    "        else:\n",
    "            print('Enter valid pin')\n",
    "            \n",
    "    def withdraw(self):\n",
    "        temp=input(\"Enter Your Pin=\")\n",
    "        if temp==self.pin:\n",
    "            amount= int(input(\"Enter The Amount: \"))\n",
    "            if amount < self.balance:\n",
    "                self.balance=self.balance-amount\n",
    "                print(\"Operation Successful\")\n",
    "            else:\n",
    "                print(\"Insufficient Funds\")\n",
    "        else:\n",
    "            print(\"Invalid Pin\")\n",
    "        print(\"Current balance is \", self.balance)   \n",
    "    \n",
    "    def check_balance(self):\n",
    "        temp = input(\"Enter your Pin=\")\n",
    "        if temp == self.pin:\n",
    "            print(self.balance)\n",
    "        else:\n",
    "            print(\"Enter Valid Pin\")"
   ]
  },
  {
   "cell_type": "code",
   "execution_count": 13,
   "id": "a000308a",
   "metadata": {},
   "outputs": [
    {
     "name": "stdout",
     "output_type": "stream",
     "text": [
      "\n",
      "            how would you like to proceed?\n",
      "            1. Enter to create pin\n",
      "            2. deposit\n",
      "            3. withdraw\n",
      "            4. balance\n",
      "            5. exit\n",
      "        \n",
      "Bye\n"
     ]
    }
   ],
   "source": [
    "c1=Atm()"
   ]
  },
  {
   "cell_type": "code",
   "execution_count": 14,
   "id": "a89a7ba6",
   "metadata": {},
   "outputs": [
    {
     "name": "stdout",
     "output_type": "stream",
     "text": [
      "\n",
      "            how would you like to proceed?\n",
      "            1. Enter to create pin\n",
      "            2. deposit\n",
      "            3. withdraw\n",
      "            4. balance\n",
      "            5. exit\n",
      "        \n",
      "Bye\n"
     ]
    }
   ],
   "source": [
    "c2=Atm()"
   ]
  },
  {
   "cell_type": "code",
   "execution_count": 15,
   "id": "02aa8fa5",
   "metadata": {},
   "outputs": [
    {
     "data": {
      "text/plain": [
       "2"
      ]
     },
     "execution_count": 15,
     "metadata": {},
     "output_type": "execute_result"
    }
   ],
   "source": [
    "c2.sno"
   ]
  },
  {
   "cell_type": "code",
   "execution_count": 16,
   "id": "f98fae29",
   "metadata": {},
   "outputs": [
    {
     "data": {
      "text/plain": [
       "1"
      ]
     },
     "execution_count": 16,
     "metadata": {},
     "output_type": "execute_result"
    }
   ],
   "source": [
    "c1.sno"
   ]
  }
 ],
 "metadata": {
  "kernelspec": {
   "display_name": "Python 3 (ipykernel)",
   "language": "python",
   "name": "python3"
  },
  "language_info": {
   "codemirror_mode": {
    "name": "ipython",
    "version": 3
   },
   "file_extension": ".py",
   "mimetype": "text/x-python",
   "name": "python",
   "nbconvert_exporter": "python",
   "pygments_lexer": "ipython3",
   "version": "3.9.7"
  }
 },
 "nbformat": 4,
 "nbformat_minor": 5
}
