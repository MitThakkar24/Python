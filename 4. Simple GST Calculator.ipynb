{
 "cells": [
  {
   "cell_type": "code",
   "execution_count": 1,
   "id": "d6230b02",
   "metadata": {},
   "outputs": [
    {
     "name": "stdout",
     "output_type": "stream",
     "text": [
      "-----> Categories <------\n",
      "1. Grocery : GST = 18.0%\n",
      "2. Electronic : GST = 12.0%\n",
      "Enter the Category: 1\n",
      "Enter the Number of Items in Your Category: 2\n",
      "Enter value for Item no. 1: 1200\n",
      "Enter value for Item no. 2: 1000\n",
      "Your Bill Without GST is: 2200\n",
      "Your GST Bill for Grocery items is: 2596.0\n"
     ]
    }
   ],
   "source": [
    "class GSTCalculator:\n",
    "    def __init__(self):\n",
    "        self.categories = {\n",
    "            1: {'name': 'Grocery', 'gst_rate': 0.18},\n",
    "            2: {'name': 'Electronic', 'gst_rate': 0.12}\n",
    "        }\n",
    "\n",
    "    def display_categories(self):\n",
    "        print(\"-----> Categories <------\")\n",
    "        for category_id, category_info in self.categories.items():\n",
    "            print(f\"{category_id}. {category_info['name']} : GST = {category_info['gst_rate'] * 100}%\")\n",
    "\n",
    "    def calculate_gst(self, category, num_items):\n",
    "        total_bill = sum(int(input(f\"Enter value for Item no. {i + 1}: \")) for i in range(num_items))\n",
    "        gst_rate = self.categories.get(category, {}).get('gst_rate', 0)\n",
    "        gst_amount = total_bill * gst_rate\n",
    "        total_bill_with_gst = total_bill + gst_amount\n",
    "        return total_bill, total_bill_with_gst\n",
    "\n",
    "# Example usage:\n",
    "gst_calculator = GSTCalculator()\n",
    "gst_calculator.display_categories()\n",
    "\n",
    "category_choice = int(input(\"Enter the Category: \"))\n",
    "num_items = int(input(\"Enter the Number of Items in Your Category: \"))\n",
    "\n",
    "original_bill, total_bill_with_gst = gst_calculator.calculate_gst(category_choice, num_items)\n",
    "\n",
    "print(f\"Your Bill Without GST is: {original_bill}\")\n",
    "print(f\"Your GST Bill for {gst_calculator.categories[category_choice]['name']} items is: {total_bill_with_gst}\")\n"
   ]
  }
 ],
 "metadata": {
  "kernelspec": {
   "display_name": "Python 3 (ipykernel)",
   "language": "python",
   "name": "python3"
  },
  "language_info": {
   "codemirror_mode": {
    "name": "ipython",
    "version": 3
   },
   "file_extension": ".py",
   "mimetype": "text/x-python",
   "name": "python",
   "nbconvert_exporter": "python",
   "pygments_lexer": "ipython3",
   "version": "3.9.7"
  }
 },
 "nbformat": 4,
 "nbformat_minor": 5
}
