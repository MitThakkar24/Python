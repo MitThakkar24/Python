{
 "cells": [
  {
   "cell_type": "code",
   "execution_count": 4,
   "id": "2429293a",
   "metadata": {},
   "outputs": [
    {
     "name": "stdout",
     "output_type": "stream",
     "text": [
      "St$lHip/Xy19dKmF\n"
     ]
    }
   ],
   "source": [
    "# Importing necessary modules\n",
    "import random \n",
    "import string \n",
    "\n",
    "# Defining the character set for the password\n",
    "total = string.ascii_letters + string.digits + string.punctuation\n",
    "\n",
    "# Setting the length of the password\n",
    "length = 16\n",
    "\n",
    "# Generating the random password using random.sample() and joining the characters\n",
    "password = \"\".join(random.sample(total, length))\n",
    "\n",
    "# Printing the generated password\n",
    "print(password)"
   ]
  }
 ],
 "metadata": {
  "kernelspec": {
   "display_name": "Python 3 (ipykernel)",
   "language": "python",
   "name": "python3"
  },
  "language_info": {
   "codemirror_mode": {
    "name": "ipython",
    "version": 3
   },
   "file_extension": ".py",
   "mimetype": "text/x-python",
   "name": "python",
   "nbconvert_exporter": "python",
   "pygments_lexer": "ipython3",
   "version": "3.9.12"
  }
 },
 "nbformat": 4,
 "nbformat_minor": 5
}
