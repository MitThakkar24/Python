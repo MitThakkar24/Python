{
 "cells": [
  {
   "cell_type": "code",
   "execution_count": 2,
   "id": "874b7932",
   "metadata": {},
   "outputs": [
    {
     "name": "stdout",
     "output_type": "stream",
     "text": [
      "Example 1 - Basic Usage: [('Alice', 25), ('Bob', 30), ('Charlie', 22)]\n",
      "Example 2 - Unpacking: X values: (10, 30, 50) Y values: (20, 40, 60)\n",
      "Example 3 - Different Lengths: [('Alice', 25, 'red'), ('Bob', 30, 'green'), ('Charlie', 22, 'blue')]\n",
      "Example 4 - Dictionary Creation: {'name': 'Alice', 'age': 25, 'color': 'red'}\n",
      "Example 5 - Iterating: Name: Alice, Age: 25, Color: red\n",
      "Example 5 - Iterating: Name: Bob, Age: 30, Color: green\n",
      "Example 5 - Iterating: Name: Charlie, Age: 22, Color: blue\n"
     ]
    }
   ],
   "source": [
    "# Example 1: Basic Usage\n",
    "names = ['Alice', 'Bob', 'Charlie']\n",
    "ages = [25, 30, 22]\n",
    "\n",
    "# Combine two lists element-wise using zip\n",
    "combined_data = list(zip(names, ages))\n",
    "print(\"Example 1 - Basic Usage:\", combined_data)\n",
    "\n",
    "# Example 2: Unpacking with zip\n",
    "coordinates = [(10, 20), (30, 40), (50, 60)]\n",
    "x, y = zip(*coordinates)\n",
    "print(\"Example 2 - Unpacking:\", \"X values:\", x, \"Y values:\", y)\n",
    "\n",
    "# Example 3: Zip with different length iterables\n",
    "colors = ['red', 'green', 'blue']\n",
    "combined_data_with_colors = list(zip(names, ages, colors))\n",
    "print(\"Example 3 - Different Lengths:\", combined_data_with_colors)\n",
    "\n",
    "# Example 4: Using zip for dictionary creation\n",
    "keys = ['name', 'age', 'color']\n",
    "user_data_dict = dict(zip(keys, combined_data_with_colors[0]))\n",
    "print(\"Example 4 - Dictionary Creation:\", user_data_dict)\n",
    "\n",
    "# Example 5: Iterating over multiple iterables simultaneously\n",
    "for name, age, color in zip(names, ages, colors):\n",
    "    print(f\"Example 5 - Iterating: Name: {name}, Age: {age}, Color: {color}\")\n"
   ]
  }
 ],
 "metadata": {
  "kernelspec": {
   "display_name": "Python 3 (ipykernel)",
   "language": "python",
   "name": "python3"
  },
  "language_info": {
   "codemirror_mode": {
    "name": "ipython",
    "version": 3
   },
   "file_extension": ".py",
   "mimetype": "text/x-python",
   "name": "python",
   "nbconvert_exporter": "python",
   "pygments_lexer": "ipython3",
   "version": "3.9.7"
  }
 },
 "nbformat": 4,
 "nbformat_minor": 5
}
