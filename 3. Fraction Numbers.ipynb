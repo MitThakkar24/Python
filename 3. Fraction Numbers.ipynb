{
 "cells": [
  {
   "cell_type": "code",
   "execution_count": 10,
   "id": "ce6f4341",
   "metadata": {},
   "outputs": [
    {
     "name": "stdout",
     "output_type": "stream",
     "text": [
      "Addition: 27/18\n",
      "Subtraction: -3/18\n",
      "Multiplication: 10/18\n",
      "Division: 12/15\n"
     ]
    }
   ],
   "source": [
    "class Fraction:\n",
    "    def __init__(self, n, d):\n",
    "        self.num = n\n",
    "        self.den = d\n",
    "    \n",
    "    def __str__(self):\n",
    "        return \"{}/{}\".format(self.num, self.den)\n",
    "    \n",
    "    def __add__(self, other):\n",
    "        temp_num = self.num * other.den + other.num * self.den\n",
    "        temp_den = self.den * other.den\n",
    "        return Fraction(temp_num, temp_den)\n",
    "    \n",
    "    def __sub__(self, other):\n",
    "        temp_num = self.num * other.den - other.num * self.den\n",
    "        temp_den = self.den * other.den\n",
    "        return Fraction(temp_num, temp_den)\n",
    "    \n",
    "    def __mul__(self, other):\n",
    "        temp_num = self.num * other.num\n",
    "        temp_den = self.den * other.den\n",
    "        return Fraction(temp_num, temp_den)\n",
    "    \n",
    "    def __truediv__(self, other):\n",
    "        temp_num = self.num * other.den\n",
    "        temp_den = self.den * other.num\n",
    "        return Fraction(temp_num, temp_den)\n",
    "\n",
    "\n",
    "# Example usage:\n",
    "fraction1 = Fraction(2,3)\n",
    "fraction2 = Fraction(5,6)\n",
    "\n",
    "# Addition\n",
    "result_add = fraction1 + fraction2\n",
    "print(\"Addition:\", result_add)\n",
    "\n",
    "# Subtraction\n",
    "result_sub = fraction1 - fraction2\n",
    "print(\"Subtraction:\", result_sub)\n",
    "\n",
    "# Multiplication\n",
    "result_mul = fraction1 * fraction2\n",
    "print(\"Multiplication:\", result_mul)\n",
    "\n",
    "# Division\n",
    "result_div = fraction1 / fraction2\n",
    "print(\"Division:\", result_div)\n"
   ]
  }
 ],
 "metadata": {
  "kernelspec": {
   "display_name": "Python 3 (ipykernel)",
   "language": "python",
   "name": "python3"
  },
  "language_info": {
   "codemirror_mode": {
    "name": "ipython",
    "version": 3
   },
   "file_extension": ".py",
   "mimetype": "text/x-python",
   "name": "python",
   "nbconvert_exporter": "python",
   "pygments_lexer": "ipython3",
   "version": "3.9.7"
  }
 },
 "nbformat": 4,
 "nbformat_minor": 5
}
